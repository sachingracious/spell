{
 "cells": [
  {
   "cell_type": "code",
   "execution_count": 9,
   "metadata": {
    "collapsed": false
   },
   "outputs": [],
   "source": [
    "# -*- coding: utf-8 -*-\n",
    "import os\n",
    "import codecs\n",
    "import cv2\n",
    "import numpy as np\n",
    "\n",
    "label_list=[]\n",
    "\n",
    "rootDir =\"/home/kamara/lekha/train_images/\"\n",
    "for dirName, subdirList, fileList in os.walk(rootDir):\n",
    "    #print('Found directory: %s' %dirName)\n",
    "    if len(fileList) > 20 :\n",
    "        file_path = os.path.join(dirName,'utf8')\n",
    "        fp=codecs.open(file_path,\"r\",'UTF-8')\n",
    "        label_u=(fp.readline().strip()).encode('UTF-8')\n",
    "        label_list.append(label_u)\n",
    "    "
   ]
  },
  {
   "cell_type": "code",
   "execution_count": 10,
   "metadata": {
    "collapsed": true
   },
   "outputs": [],
   "source": [
    "np.savetxt('response_T_array.txt', label_list,fmt=\"%s\")\n"
   ]
  }
 ],
 "metadata": {
  "kernelspec": {
   "display_name": "Python 2",
   "language": "python",
   "name": "python2"
  },
  "language_info": {
   "codemirror_mode": {
    "name": "ipython",
    "version": 2
   },
   "file_extension": ".py",
   "mimetype": "text/x-python",
   "name": "python",
   "nbconvert_exporter": "python",
   "pygments_lexer": "ipython2",
   "version": "2.7.9"
  }
 },
 "nbformat": 4,
 "nbformat_minor": 1
}
