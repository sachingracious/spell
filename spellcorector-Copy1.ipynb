{
 "cells": [
  {
   "cell_type": "code",
   "execution_count": 1,
   "metadata": {
    "collapsed": true,
    "deletable": true,
    "editable": true
   },
   "outputs": [],
   "source": [
    "import numpy as np\n",
    "import pandas as pd\n"
   ]
  },
  {
   "cell_type": "code",
   "execution_count": 2,
   "metadata": {
    "collapsed": false,
    "deletable": true,
    "editable": true
   },
   "outputs": [
    {
     "name": "stdout",
     "output_type": "stream",
     "text": [
      "                             key  value\n",
      "0                          എന്നു  13065\n",
      "1                           എന്ന  12918\n",
      "2                            ഞാൻ  11641\n",
      "3                          എന്റെ   9951\n",
      "4                             സം   9853\n",
      "5                          എന്ന്   7455\n",
      "6                            പരി   5395\n",
      "7                             അവ   5092\n",
      "8                          ബെർളി   5023\n",
      "9                          പ്രതി   4801\n",
      "10                        കൊണ്ട്   4729\n",
      "11                        നിന്ന്   4696\n",
      "12                          പോലെ   4199\n",
      "13                            ഉപ   4097\n",
      "14                            നട   3899\n",
      "15                           അനു   3771\n",
      "16                         ഇവിടെ   3739\n",
      "17                  പഴഞ്ചൊല്ലുകൾ   3729\n",
      "18                           അവർ   3663\n",
      "19                        നിന്നു   3654\n",
      "20                        മാത്രം   3574\n",
      "21                         രണ്ടു   3513\n",
      "22                         തോമസ്   3387\n",
      "23                            മന   3349\n",
      "24                         പുതിയ   3255\n",
      "25                         പോലും   3196\n",
      "26                         എന്നെ   3191\n",
      "27                           കഴി   3176\n",
      "28                       നമ്മുടെ   3110\n",
      "29                          ഗൈഡ്   3047\n",
      "...                          ...    ...\n",
      "329970                     ആത്രെ      1\n",
      "329971                    ആത്രേയ      1\n",
      "329972                   ആഥൻസിലെ      1\n",
      "329973                ആദംഗിരിയും      1\n",
      "329974                    ആദംനബി      1\n",
      "329975                    ആദനാട്      1\n",
      "329976                      ആദമെ      1\n",
      "329977               ആദരണീയരായത്      1\n",
      "329978         ആദരവർപ്പിക്കാനാണ്      1\n",
      "329979              ആദരവോടുകൂടിയ      1\n",
      "329980  ആദരാഞ്ജലികൾയർപ്പിക്കുന്ന      1\n",
      "329981             ആദരാഞ്ജലിയായി      1\n",
      "329982         ആദരാഭിനന്ദനങ്ങളിൽ      1\n",
      "329983         ആദരിക്കപ്പെടുന്നു      1\n",
      "329984              ആദരിക്കുവാനോ      1\n",
      "329985            ആദരിച്ചചേരൻമാർ      1\n",
      "329986            ആദരിച്ചുകൊണ്ടു      1\n",
      "329987               ആദരിയേടത്ത്      1\n",
      "329988               ആദർചന്ദ്രിക      1\n",
      "329989                  ആദർശകഥകൾ      1\n",
      "329990                  ആദർശകപൂജ      1\n",
      "329991              ആദർശകിരണങ്ങൾ      1\n",
      "329992               ആദർശങ്ങളിലെ      1\n",
      "329993               ആദർശങ്ങളുടെ      1\n",
      "329994              ആദർശങ്ങളെയും      1\n",
      "329995              ആദർശചന്ദ്രിക      1\n",
      "329996               ആദർശചിന്തകൾ      1\n",
      "329997                ആദർശജീവിതം      1\n",
      "329998                ആദർശദാസ്യം      1\n",
      "329999               ആദർശദീപങ്ങൾ      1\n",
      "\n",
      "[330000 rows x 2 columns]\n"
     ]
    }
   ],
   "source": [
    "dict_data=pd.read_csv('data.txt',names=['key','value'],delim_whitespace=True)\n"
   ]
  },
  {
   "cell_type": "code",
   "execution_count": 3,
   "metadata": {
    "collapsed": false,
    "deletable": true,
    "editable": true
   },
   "outputs": [],
   "source": [
    "words=dict([(i,j) for i ,j in zip(dict_data.key,dict_data.value)])\n",
    "#print words['']"
   ]
  }
 ],
 "metadata": {
  "kernelspec": {
   "display_name": "Python 2",
   "language": "python",
   "name": "python2"
  },
  "language_info": {
   "codemirror_mode": {
    "name": "ipython",
    "version": 2
   },
   "file_extension": ".py",
   "mimetype": "text/x-python",
   "name": "python",
   "nbconvert_exporter": "python",
   "pygments_lexer": "ipython2",
   "version": "2.7.13"
  }
 },
 "nbformat": 4,
 "nbformat_minor": 1
}
